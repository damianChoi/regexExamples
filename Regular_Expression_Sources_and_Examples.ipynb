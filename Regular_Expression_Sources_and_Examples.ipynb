{
  "nbformat": 4,
  "nbformat_minor": 0,
  "metadata": {
    "colab": {
      "name": "Regular Expression Sources and Examples.ipynb",
      "version": "0.3.2",
      "provenance": [],
      "collapsed_sections": []
    },
    "kernelspec": {
      "name": "python3",
      "display_name": "Python 3"
    }
  },
  "cells": [
    {
      "metadata": {
        "id": "qTRxv2-0Z9AH",
        "colab_type": "text"
      },
      "cell_type": "markdown",
      "source": [
        "<a href=\"https://docs.python.org/3/library/re.html#module-re\"> Python Standard Library re</a>"
      ]
    },
    {
      "metadata": {
        "id": "4cE4SQqoaa9H",
        "colab_type": "text"
      },
      "cell_type": "markdown",
      "source": [
        "<a href=\"https://regex101.com/\"> Test regular expression here </a>"
      ]
    },
    {
      "metadata": {
        "id": "FN6YnTouao4O",
        "colab_type": "text"
      },
      "cell_type": "markdown",
      "source": [
        "<a href=\"https://github.com/ziishaned/learn-regex\"> learn-regex github </a>"
      ]
    },
    {
      "metadata": {
        "id": "EwTVWSaws2GH",
        "colab_type": "text"
      },
      "cell_type": "markdown",
      "source": [
        "# Checking a Pair"
      ]
    },
    {
      "metadata": {
        "id": "tbs3iteSql7Y",
        "colab_type": "code",
        "colab": {}
      },
      "cell_type": "code",
      "source": [
        "def displaymatch(match):\n",
        "  if not match:\n",
        "    return None\n",
        "  return '<Match: %r, groups=%r>' % (match.group(), match.groups())"
      ],
      "execution_count": 0,
      "outputs": []
    },
    {
      "metadata": {
        "id": "eY6Jwg4IrOWY",
        "colab_type": "code",
        "colab": {}
      },
      "cell_type": "code",
      "source": [
        "import re\n",
        "valid = re.compile(r'^[a2-9tjqk]{5}')"
      ],
      "execution_count": 0,
      "outputs": []
    },
    {
      "metadata": {
        "id": "s_m0cgI1r0-J",
        "colab_type": "code",
        "colab": {
          "base_uri": "https://localhost:8080/",
          "height": 34
        },
        "outputId": "90ca0f19-55f7-4c7e-f677-b02c2f941241"
      },
      "cell_type": "code",
      "source": [
        "displaymatch(valid.match('akt5q'))"
      ],
      "execution_count": 4,
      "outputs": [
        {
          "output_type": "execute_result",
          "data": {
            "text/plain": [
              "\"<Match: 'akt5q', groups=()>\""
            ]
          },
          "metadata": {
            "tags": []
          },
          "execution_count": 4
        }
      ]
    },
    {
      "metadata": {
        "id": "hHN_jSoZr8q8",
        "colab_type": "code",
        "colab": {}
      },
      "cell_type": "code",
      "source": [
        "pair = re.compile(r'.*(.).*\\1')"
      ],
      "execution_count": 0,
      "outputs": []
    },
    {
      "metadata": {
        "id": "X0vtE-3BsVpf",
        "colab_type": "code",
        "colab": {
          "base_uri": "https://localhost:8080/",
          "height": 34
        },
        "outputId": "9ed5a63d-6653-4d42-b721-5db9807797eb"
      },
      "cell_type": "code",
      "source": [
        "displaymatch(pair.match('717ak'))"
      ],
      "execution_count": 6,
      "outputs": [
        {
          "output_type": "execute_result",
          "data": {
            "text/plain": [
              "\"<Match: '717', groups=('7',)>\""
            ]
          },
          "metadata": {
            "tags": []
          },
          "execution_count": 6
        }
      ]
    },
    {
      "metadata": {
        "id": "zNatMpD0sbB3",
        "colab_type": "code",
        "colab": {
          "base_uri": "https://localhost:8080/",
          "height": 34
        },
        "outputId": "444a1c72-993f-4536-a907-de7716ee02e7"
      },
      "cell_type": "code",
      "source": [
        "displaymatch(pair.match('354aa'))"
      ],
      "execution_count": 7,
      "outputs": [
        {
          "output_type": "execute_result",
          "data": {
            "text/plain": [
              "\"<Match: '354aa', groups=('a',)>\""
            ]
          },
          "metadata": {
            "tags": []
          },
          "execution_count": 7
        }
      ]
    },
    {
      "metadata": {
        "id": "eprM7PSFskAP",
        "colab_type": "text"
      },
      "cell_type": "markdown",
      "source": [
        "# Making a Phone Book"
      ]
    },
    {
      "metadata": {
        "id": "lb3zx_kyKHkM",
        "colab_type": "code",
        "colab": {}
      },
      "cell_type": "code",
      "source": [
        "text = \"\"\"Ross McFluff 834.345.1254 155 Elm Street\n",
        "\n",
        "Ronald Heathmore: 892.345.3428 436 Finley Avenue\n",
        "Frank Burger: 925.541.7625 662 South Dogwood Way\n",
        "\n",
        "Heather Albrecht: 548.326.4584 919 Park Place\"\"\""
      ],
      "execution_count": 0,
      "outputs": []
    },
    {
      "metadata": {
        "id": "CyGWjv2LKkfH",
        "colab_type": "code",
        "colab": {}
      },
      "cell_type": "code",
      "source": [
        "import re\n",
        "entries = re.split(r'\\n+', text)"
      ],
      "execution_count": 0,
      "outputs": []
    },
    {
      "metadata": {
        "id": "q0SuNE-CKvfg",
        "colab_type": "code",
        "colab": {
          "base_uri": "https://localhost:8080/",
          "height": 85
        },
        "outputId": "97c78f31-cb7a-4a95-fd74-9c439c295f99"
      },
      "cell_type": "code",
      "source": [
        "entries"
      ],
      "execution_count": 3,
      "outputs": [
        {
          "output_type": "execute_result",
          "data": {
            "text/plain": [
              "['Ross McFluff 834.345.1254 155 Elm Street',\n",
              " 'Ronald Heathmore: 892.345.3428 436 Finley Avenue',\n",
              " 'Frank Burger: 925.541.7625 662 South Dogwood Way',\n",
              " 'Heather Albrecht: 548.326.4584 919 Park Place']"
            ]
          },
          "metadata": {
            "tags": []
          },
          "execution_count": 3
        }
      ]
    },
    {
      "metadata": {
        "id": "x71EASGnK0B5",
        "colab_type": "code",
        "colab": {
          "base_uri": "https://localhost:8080/",
          "height": 85
        },
        "outputId": "324f5585-396c-4c94-b974-cedb2821dc8a"
      },
      "cell_type": "code",
      "source": [
        "[re.split(r':? ', entry, maxsplit=3) for entry in entries]"
      ],
      "execution_count": 4,
      "outputs": [
        {
          "output_type": "execute_result",
          "data": {
            "text/plain": [
              "[['Ross', 'McFluff', '834.345.1254', '155 Elm Street'],\n",
              " ['Ronald', 'Heathmore', '892.345.3428', '436 Finley Avenue'],\n",
              " ['Frank', 'Burger', '925.541.7625', '662 South Dogwood Way'],\n",
              " ['Heather', 'Albrecht', '548.326.4584', '919 Park Place']]"
            ]
          },
          "metadata": {
            "tags": []
          },
          "execution_count": 4
        }
      ]
    },
    {
      "metadata": {
        "id": "_jesl6qKLUIb",
        "colab_type": "text"
      },
      "cell_type": "markdown",
      "source": [
        "# Text Munging"
      ]
    },
    {
      "metadata": {
        "id": "0w7YfN3rMAAw",
        "colab_type": "code",
        "colab": {}
      },
      "cell_type": "code",
      "source": [
        "def repl(m):\n",
        "  import random\n",
        "  innerWord = list(m.group(2))\n",
        "  print(innerWord)\n",
        "  random.shuffle(innerWord)\n",
        "  print(innerWord)\n",
        "  return m.group(1) + ''.join(innerWord) + m.group(3)"
      ],
      "execution_count": 0,
      "outputs": []
    },
    {
      "metadata": {
        "id": "G08XAmNGMwV1",
        "colab_type": "code",
        "colab": {
          "base_uri": "https://localhost:8080/",
          "height": 272
        },
        "outputId": "ad0d4f6f-bd24-4aef-c629-65b10371f6ab"
      },
      "cell_type": "code",
      "source": [
        "text = \"Professor Abdolmalek, please report your absense promptly.\"\n",
        "re.sub('(\\w)(\\w+)(\\w)', repl, text)"
      ],
      "execution_count": 11,
      "outputs": [
        {
          "output_type": "stream",
          "text": [
            "['r', 'o', 'f', 'e', 's', 's', 'o']\n",
            "['o', 'f', 'o', 'e', 'r', 's', 's']\n",
            "['b', 'd', 'o', 'l', 'm', 'a', 'l', 'e']\n",
            "['l', 'm', 'b', 'o', 'e', 'a', 'l', 'd']\n",
            "['l', 'e', 'a', 's']\n",
            "['e', 'l', 'a', 's']\n",
            "['e', 'p', 'o', 'r']\n",
            "['r', 'e', 'p', 'o']\n",
            "['o', 'u']\n",
            "['o', 'u']\n",
            "['b', 's', 'e', 'n', 's']\n",
            "['s', 'e', 'n', 's', 'b']\n",
            "['r', 'o', 'm', 'p', 't', 'l']\n",
            "['m', 'l', 'r', 'p', 't', 'o']\n"
          ],
          "name": "stdout"
        },
        {
          "output_type": "execute_result",
          "data": {
            "text/plain": [
              "'Pofoerssr Almboealdk, pelase rrepot your asensbe pmlrptoy.'"
            ]
          },
          "metadata": {
            "tags": []
          },
          "execution_count": 11
        }
      ]
    },
    {
      "metadata": {
        "id": "f6a1_3K5MVfV",
        "colab_type": "code",
        "colab": {}
      },
      "cell_type": "code",
      "source": [
        "import random\n",
        "random.shuffle?"
      ],
      "execution_count": 0,
      "outputs": []
    },
    {
      "metadata": {
        "id": "FyIGloyGOFb8",
        "colab_type": "code",
        "colab": {
          "base_uri": "https://localhost:8080/",
          "height": 34
        },
        "outputId": "e519eedd-7814-430e-c381-0bf754be8049"
      },
      "cell_type": "code",
      "source": [
        "text = \"He was carefully disguised but captured quickly by police.\"\n",
        "re.findall(r'\\w+ly', text)"
      ],
      "execution_count": 12,
      "outputs": [
        {
          "output_type": "execute_result",
          "data": {
            "text/plain": [
              "['carefully', 'quickly']"
            ]
          },
          "metadata": {
            "tags": []
          },
          "execution_count": 12
        }
      ]
    },
    {
      "metadata": {
        "id": "haO0cBHSON0t",
        "colab_type": "code",
        "colab": {
          "base_uri": "https://localhost:8080/",
          "height": 51
        },
        "outputId": "99ca1caf-83be-4676-9f93-6c8b7b669729"
      },
      "cell_type": "code",
      "source": [
        "for m in re.finditer(r'\\w+ly', text):\n",
        "  print('%02d-%02d: %s' % (m.start(), m.end(), m.group(0)))"
      ],
      "execution_count": 14,
      "outputs": [
        {
          "output_type": "stream",
          "text": [
            "07-16: carefully\n",
            "40-47: quickly\n"
          ],
          "name": "stdout"
        }
      ]
    },
    {
      "metadata": {
        "id": "iuuVXPzTOopU",
        "colab_type": "code",
        "colab": {
          "base_uri": "https://localhost:8080/",
          "height": 34
        },
        "outputId": "e02a3f89-f9ce-4cd3-89c2-2503802d3f7c"
      },
      "cell_type": "code",
      "source": [
        "re.match(r\"\\W(.)\\1\\W\", \" ff \")"
      ],
      "execution_count": 15,
      "outputs": [
        {
          "output_type": "execute_result",
          "data": {
            "text/plain": [
              "<_sre.SRE_Match object; span=(0, 4), match=' ff '>"
            ]
          },
          "metadata": {
            "tags": []
          },
          "execution_count": 15
        }
      ]
    },
    {
      "metadata": {
        "id": "YE8sPZxlO8z4",
        "colab_type": "code",
        "colab": {}
      },
      "cell_type": "code",
      "source": [
        "re.match('\\W(.)\\1\\W',' ff ')"
      ],
      "execution_count": 0,
      "outputs": []
    },
    {
      "metadata": {
        "id": "NlbfWfOYPEuF",
        "colab_type": "code",
        "colab": {
          "base_uri": "https://localhost:8080/",
          "height": 34
        },
        "outputId": "9decd949-8135-4a8a-bff3-d8173b173e6a"
      },
      "cell_type": "code",
      "source": [
        "re.match('\\\\W(.)\\\\1\\\\W',' ff ')"
      ],
      "execution_count": 24,
      "outputs": [
        {
          "output_type": "execute_result",
          "data": {
            "text/plain": [
              "<_sre.SRE_Match object; span=(0, 4), match=' ff '>"
            ]
          },
          "metadata": {
            "tags": []
          },
          "execution_count": 24
        }
      ]
    },
    {
      "metadata": {
        "id": "rDA0F148RKsq",
        "colab_type": "code",
        "colab": {}
      },
      "cell_type": "code",
      "source": [
        "import collections\n",
        "import re\n",
        "\n",
        "Token = collections.namedtuple('Token', ['type', 'value', 'line', 'column'])"
      ],
      "execution_count": 0,
      "outputs": []
    },
    {
      "metadata": {
        "id": "o4oEpm3_YG83",
        "colab_type": "text"
      },
      "cell_type": "markdown",
      "source": [
        "# Writing a Tokenizer"
      ]
    },
    {
      "metadata": {
        "id": "bxjj6KmEPTWQ",
        "colab_type": "code",
        "colab": {
          "base_uri": "https://localhost:8080/",
          "height": 340
        },
        "outputId": "c2121517-02bb-4c22-d010-30264f60ddc8"
      },
      "cell_type": "code",
      "source": [
        "import collections\n",
        "import re\n",
        "\n",
        "Token = collections.namedtuple('Token', ['type', 'value', 'line', 'column'])\n",
        "\n",
        "def tokenize(code):\n",
        "    keywords = {'IF', 'THEN', 'ENDIF', 'FOR', 'NEXT', 'GOSUB', 'RETURN'}\n",
        "    token_specification = [\n",
        "        ('NUMBER',   r'\\d+(\\.\\d*)?'),  # Integer or decimal number\n",
        "        ('ASSIGN',   r':='),           # Assignment operator\n",
        "        ('END',      r';'),            # Statement terminator\n",
        "        ('ID',       r'[A-Za-z]+'),    # Identifiers\n",
        "        ('OP',       r'[+\\-*\\/]'),      # Arithmetic operators\n",
        "        ('NEWLINE',  r'\\n'),           # Line endings\n",
        "        ('SKIP',     r'[ \\t]+'),       # Skip over spaces and tabs\n",
        "        ('MISMATCH', r'.'),            # Any other character\n",
        "    ]\n",
        "    tok_regex = '|'.join('(?P<%s>%s)' % pair for pair in token_specification)\n",
        "    line_num = 1\n",
        "    line_start = 0\n",
        "    for mo in re.finditer(tok_regex, code):\n",
        "        kind = mo.lastgroup\n",
        "        value = mo.group()\n",
        "        column = mo.start() - line_start\n",
        "        if kind == 'NUMBER':\n",
        "            value = float(value) if '.' in value else int(value)\n",
        "        elif kind == 'ID' and value in keywords:\n",
        "            kind = value\n",
        "        elif kind == 'NEWLINE':\n",
        "            line_start = mo.end()\n",
        "            line_num += 1\n",
        "            continue\n",
        "        elif kind == 'SKIP':\n",
        "            continue\n",
        "        elif kind == 'MISMATCH':\n",
        "            raise RuntimeError(f'{value!r} unexpected on line {line_num}')\n",
        "        yield Token(kind, value, line_num, column)\n",
        "\n",
        "statements = '''\n",
        "    IF quantity THEN\n",
        "        total := total + price * quantity;\n",
        "        tax := price * 0.05;\n",
        "    ENDIF;\n",
        "'''\n",
        "\n",
        "for token in tokenize(statements):\n",
        "    print(token)"
      ],
      "execution_count": 42,
      "outputs": [
        {
          "output_type": "stream",
          "text": [
            "Token(type='IF', value='IF', line=2, column=4)\n",
            "Token(type='ID', value='quantity', line=2, column=7)\n",
            "Token(type='THEN', value='THEN', line=2, column=16)\n",
            "Token(type='ID', value='total', line=3, column=8)\n",
            "Token(type='ASSIGN', value=':=', line=3, column=14)\n",
            "Token(type='ID', value='total', line=3, column=17)\n",
            "Token(type='OP', value='+', line=3, column=23)\n",
            "Token(type='ID', value='price', line=3, column=25)\n",
            "Token(type='OP', value='*', line=3, column=31)\n",
            "Token(type='ID', value='quantity', line=3, column=33)\n",
            "Token(type='END', value=';', line=3, column=41)\n",
            "Token(type='ID', value='tax', line=4, column=8)\n",
            "Token(type='ASSIGN', value=':=', line=4, column=12)\n",
            "Token(type='ID', value='price', line=4, column=15)\n",
            "Token(type='OP', value='*', line=4, column=21)\n",
            "Token(type='NUMBER', value=0.05, line=4, column=23)\n",
            "Token(type='END', value=';', line=4, column=27)\n",
            "Token(type='ENDIF', value='ENDIF', line=5, column=4)\n",
            "Token(type='END', value=';', line=5, column=9)\n"
          ],
          "name": "stdout"
        }
      ]
    },
    {
      "metadata": {
        "id": "gMwXXKY0YO4a",
        "colab_type": "code",
        "colab": {
          "base_uri": "https://localhost:8080/",
          "height": 34
        },
        "outputId": "21175808-647e-416c-b734-b6d9343820e8"
      },
      "cell_type": "code",
      "source": [
        "print(tokenRegex)"
      ],
      "execution_count": 43,
      "outputs": [
        {
          "output_type": "stream",
          "text": [
            "(?P<NUMBER>\\d+(\\.\\d*)?)|(?P<ASSIGN>:=)|(?P<END>;)|(?P<ID>[A-Za-z]+)|(?P<OP>+\\-*\\/)|(?P<NEWLINE>\\n)|(?P<SKIP>[ \\t]+)|(?P<MISMATCH>.)\n"
          ],
          "name": "stdout"
        }
      ]
    },
    {
      "metadata": {
        "id": "3B25Zx09V4fY",
        "colab_type": "code",
        "colab": {}
      },
      "cell_type": "code",
      "source": [
        "tokenRegex = r'(?P<NUMBER>\\d+(\\.\\d*)?)|(?P<ASSIGN>:=)|(?P<END>;)|(?P<ID>[A-Za-z]+)|(?P<OP>\\+\\-\\*\\/)|(?P<NEWLINE>\\n)|(?P<SKIP>[ \\t]+)|(?P<MISMATCH>.)'"
      ],
      "execution_count": 0,
      "outputs": []
    },
    {
      "metadata": {
        "id": "AxJeE5ZWY_pq",
        "colab_type": "code",
        "colab": {}
      },
      "cell_type": "code",
      "source": [
        "statements = '''\n",
        "    IF quantity THEN\n",
        "        total := total + price * quantity;\n",
        "        tax := price * 0.05;\n",
        "    ENDIF;\n",
        "'''"
      ],
      "execution_count": 0,
      "outputs": []
    },
    {
      "metadata": {
        "id": "yMhXM6c2ZPVy",
        "colab_type": "code",
        "colab": {
          "base_uri": "https://localhost:8080/",
          "height": 34
        },
        "outputId": "8f040b93-f1c8-4477-fbad-ce319d4293a2"
      },
      "cell_type": "code",
      "source": [
        "re.finditer(tokenRegex, statements)"
      ],
      "execution_count": 47,
      "outputs": [
        {
          "output_type": "execute_result",
          "data": {
            "text/plain": [
              "<callable_iterator at 0x7fdca68f2fd0>"
            ]
          },
          "metadata": {
            "tags": []
          },
          "execution_count": 47
        }
      ]
    },
    {
      "metadata": {
        "id": "99ANWTHEZYvl",
        "colab_type": "code",
        "colab": {
          "base_uri": "https://localhost:8080/",
          "height": 2822
        },
        "outputId": "4c6d13e4-a8e4-45e6-a805-f0279d304307"
      },
      "cell_type": "code",
      "source": [
        "for mo in re.finditer(tokenRegex, statements):\n",
        "  print(mo.lastgroup)\n",
        "  print(mo.group())\n",
        "  print(mo.start())\n",
        "  print(mo.end())\n",
        "  "
      ],
      "execution_count": 48,
      "outputs": [
        {
          "output_type": "stream",
          "text": [
            "NEWLINE\n",
            "\n",
            "\n",
            "0\n",
            "1\n",
            "SKIP\n",
            "    \n",
            "1\n",
            "5\n",
            "ID\n",
            "IF\n",
            "5\n",
            "7\n",
            "SKIP\n",
            " \n",
            "7\n",
            "8\n",
            "ID\n",
            "quantity\n",
            "8\n",
            "16\n",
            "SKIP\n",
            " \n",
            "16\n",
            "17\n",
            "ID\n",
            "THEN\n",
            "17\n",
            "21\n",
            "NEWLINE\n",
            "\n",
            "\n",
            "21\n",
            "22\n",
            "SKIP\n",
            "        \n",
            "22\n",
            "30\n",
            "ID\n",
            "total\n",
            "30\n",
            "35\n",
            "SKIP\n",
            " \n",
            "35\n",
            "36\n",
            "ASSIGN\n",
            ":=\n",
            "36\n",
            "38\n",
            "SKIP\n",
            " \n",
            "38\n",
            "39\n",
            "ID\n",
            "total\n",
            "39\n",
            "44\n",
            "SKIP\n",
            " \n",
            "44\n",
            "45\n",
            "MISMATCH\n",
            "+\n",
            "45\n",
            "46\n",
            "SKIP\n",
            " \n",
            "46\n",
            "47\n",
            "ID\n",
            "price\n",
            "47\n",
            "52\n",
            "SKIP\n",
            " \n",
            "52\n",
            "53\n",
            "MISMATCH\n",
            "*\n",
            "53\n",
            "54\n",
            "SKIP\n",
            " \n",
            "54\n",
            "55\n",
            "ID\n",
            "quantity\n",
            "55\n",
            "63\n",
            "END\n",
            ";\n",
            "63\n",
            "64\n",
            "NEWLINE\n",
            "\n",
            "\n",
            "64\n",
            "65\n",
            "SKIP\n",
            "        \n",
            "65\n",
            "73\n",
            "ID\n",
            "tax\n",
            "73\n",
            "76\n",
            "SKIP\n",
            " \n",
            "76\n",
            "77\n",
            "ASSIGN\n",
            ":=\n",
            "77\n",
            "79\n",
            "SKIP\n",
            " \n",
            "79\n",
            "80\n",
            "ID\n",
            "price\n",
            "80\n",
            "85\n",
            "SKIP\n",
            " \n",
            "85\n",
            "86\n",
            "MISMATCH\n",
            "*\n",
            "86\n",
            "87\n",
            "SKIP\n",
            " \n",
            "87\n",
            "88\n",
            "NUMBER\n",
            "0.05\n",
            "88\n",
            "92\n",
            "END\n",
            ";\n",
            "92\n",
            "93\n",
            "NEWLINE\n",
            "\n",
            "\n",
            "93\n",
            "94\n",
            "SKIP\n",
            "    \n",
            "94\n",
            "98\n",
            "ID\n",
            "ENDIF\n",
            "98\n",
            "103\n",
            "END\n",
            ";\n",
            "103\n",
            "104\n",
            "NEWLINE\n",
            "\n",
            "\n",
            "104\n",
            "105\n"
          ],
          "name": "stdout"
        }
      ]
    },
    {
      "metadata": {
        "id": "JEdLKiHlZrNS",
        "colab_type": "code",
        "colab": {}
      },
      "cell_type": "code",
      "source": [
        ""
      ],
      "execution_count": 0,
      "outputs": []
    }
  ]
}